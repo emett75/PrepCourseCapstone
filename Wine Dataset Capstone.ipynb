{
 "cells": [
  {
   "cell_type": "markdown",
   "metadata": {},
   "source": [
    "# Wine Down"
   ]
  },
  {
   "cell_type": "markdown",
   "metadata": {},
   "source": [
    "I used the wine data set from Kaggle for my Capstone project. "
   ]
  },
  {
   "cell_type": "code",
   "execution_count": 3,
   "metadata": {},
   "outputs": [],
   "source": [
    "import pandas as pd\n",
    "import numpy as np"
   ]
  },
  {
   "cell_type": "code",
   "execution_count": 4,
   "metadata": {},
   "outputs": [],
   "source": [
    "wine_data = pd.read_csv('winemag-data_first150k.csv')\n",
    "#We imported the wine data set. This data gives us a lot of information about wine from different countries around the\n",
    "#world. The data includes, but is not limited to price, points(rating), variety, winery, country, description etc.\n"
   ]
  },
  {
   "cell_type": "markdown",
   "metadata": {},
   "source": [
    "## Describing the data set"
   ]
  },
  {
   "cell_type": "code",
   "execution_count": 5,
   "metadata": {},
   "outputs": [
    {
     "name": "stdout",
     "output_type": "stream",
     "text": [
      "   Unnamed: 0 country                                        description  \\\n",
      "0           0      US  This tremendous 100% varietal wine hails from ...   \n",
      "1           1   Spain  Ripe aromas of fig, blackberry and cassis are ...   \n",
      "2           2      US  Mac Watson honors the memory of a wine once ma...   \n",
      "3           3      US  This spent 20 months in 30% new French oak, an...   \n",
      "4           4  France  This is the top wine from La Bégude, named aft...   \n",
      "\n",
      "                            designation  points  price        province  \\\n",
      "0                     Martha's Vineyard      96  235.0      California   \n",
      "1  Carodorum Selección Especial Reserva      96  110.0  Northern Spain   \n",
      "2         Special Selected Late Harvest      96   90.0      California   \n",
      "3                               Reserve      96   65.0          Oregon   \n",
      "4                            La Brûlade      95   66.0        Provence   \n",
      "\n",
      "            region_1           region_2             variety  \\\n",
      "0        Napa Valley               Napa  Cabernet Sauvignon   \n",
      "1               Toro                NaN       Tinta de Toro   \n",
      "2     Knights Valley             Sonoma     Sauvignon Blanc   \n",
      "3  Willamette Valley  Willamette Valley          Pinot Noir   \n",
      "4             Bandol                NaN  Provence red blend   \n",
      "\n",
      "                    winery  \n",
      "0                    Heitz  \n",
      "1  Bodega Carmen Rodríguez  \n",
      "2                 Macauley  \n",
      "3                    Ponzi  \n",
      "4     Domaine de la Bégude  \n"
     ]
    }
   ],
   "source": [
    "print(wine_data.head())\n",
    "#Printed the beginning of the data set to take a look at some of the data."
   ]
  },
  {
   "cell_type": "code",
   "execution_count": 6,
   "metadata": {},
   "outputs": [
    {
     "data": {
      "text/plain": [
       "US                        62397\n",
       "Italy                     23478\n",
       "France                    21098\n",
       "Spain                      8268\n",
       "Chile                      5816\n",
       "Argentina                  5631\n",
       "Portugal                   5322\n",
       "Australia                  4957\n",
       "New Zealand                3320\n",
       "Austria                    3057\n",
       "Germany                    2452\n",
       "South Africa               2258\n",
       "Greece                      884\n",
       "Israel                      630\n",
       "Hungary                     231\n",
       "Canada                      196\n",
       "Romania                     139\n",
       "Slovenia                     94\n",
       "Uruguay                      92\n",
       "Croatia                      89\n",
       "Bulgaria                     77\n",
       "Moldova                      71\n",
       "Mexico                       63\n",
       "Turkey                       52\n",
       "Georgia                      43\n",
       "Lebanon                      37\n",
       "Cyprus                       31\n",
       "Brazil                       25\n",
       "Macedonia                    16\n",
       "Serbia                       14\n",
       "Morocco                      12\n",
       "Luxembourg                    9\n",
       "England                       9\n",
       "India                         8\n",
       "Lithuania                     8\n",
       "Czech Republic                6\n",
       "Ukraine                       5\n",
       "Bosnia and Herzegovina        4\n",
       "Switzerland                   4\n",
       "South Korea                   4\n",
       "Egypt                         3\n",
       "China                         3\n",
       "Slovakia                      3\n",
       "Japan                         2\n",
       "Albania                       2\n",
       "Montenegro                    2\n",
       "Tunisia                       2\n",
       "US-France                     1\n",
       "Name: country, dtype: int64"
      ]
     },
     "execution_count": 6,
     "metadata": {},
     "output_type": "execute_result"
    }
   ],
   "source": [
    "wine_data.country.value_counts()\n",
    "#This lists the countries that are included in the data set and how many wines are available in each country"
   ]
  },
  {
   "cell_type": "code",
   "execution_count": 7,
   "metadata": {},
   "outputs": [],
   "source": [
    "import matplotlib.pyplot as plt\n",
    "df = wine_data.country.value_counts()"
   ]
  },
  {
   "cell_type": "code",
   "execution_count": 8,
   "metadata": {},
   "outputs": [
    {
     "data": {
      "image/png": "[encoded data removed]",
      "text/plain": [
       "<Figure size 432x288 with 1 Axes>"
      ]
     },
     "metadata": {},
     "output_type": "display_data"
    }
   ],
   "source": [
    "plt.bar(df.index, df.values)\n",
    "plt.xticks(rotation=90) #rotate labels\n",
    "plt.show()\n",
    "#This list shows us the number of wines by country. As you can see, the data is skewed because the US, France and Italy\n",
    "#produce by far the most wine"
   ]
  },
  {
   "cell_type": "code",
   "execution_count": 62,
   "metadata": {},
   "outputs": [],
   "source": [
    "df2 = df.drop(labels=['US', 'France', 'Italy']) #Here, we dropped the largest 3 countries to get a better look at the \n",
    "#rest of the data from the other countries\n"
   ]
  },
  {
   "cell_type": "code",
   "execution_count": 10,
   "metadata": {},
   "outputs": [
    {
     "data": {
      "image/png": "[encoded data removed]",
      "text/plain": [
       "<Figure size 432x288 with 1 Axes>"
      ]
     },
     "metadata": {},
     "output_type": "display_data"
    }
   ],
   "source": [
    "plt.bar(df2.index, df2.values)\n",
    "plt.xticks(rotation=90)\n",
    "plt.show()"
   ]
  },
  {
   "cell_type": "code",
   "execution_count": 80,
   "metadata": {},
   "outputs": [
    {
     "data": {
      "image/png": "[encoded data removed]",
      "text/plain": [
       "<Figure size 432x288 with 1 Axes>"
      ]
     },
     "metadata": {},
     "output_type": "display_data"
    }
   ],
   "source": [
    "plt.hist(wine_data.points)\n",
    "plt.title('Wine Scores')\n",
    "plt.ylabel('Number of wines')\n",
    "plt.xlabel('Points')\n",
    "plt.show()\n",
    "#This shows us the ratings of the wines, based on how many points they earned from reviewers"
   ]
  },
  {
   "cell_type": "code",
   "execution_count": 13,
   "metadata": {},
   "outputs": [
    {
     "data": {
      "text/plain": [
       "Unnamed: 0                                                150929\n",
       "description    “Zéro Dosage” means just that; the resulting w...\n",
       "points                                                       100\n",
       "price                                                       2300\n",
       "variety                                                  Žilavka\n",
       "winery                                                     Štoka\n",
       "dtype: object"
      ]
     },
     "execution_count": 13,
     "metadata": {},
     "output_type": "execute_result"
    }
   ],
   "source": [
    "wine_data.max()\n",
    "#The maximum of each point in the data set"
   ]
  },
  {
   "cell_type": "code",
   "execution_count": 14,
   "metadata": {},
   "outputs": [
    {
     "data": {
      "text/plain": [
       "Unnamed: 0                                                     0\n",
       "description    \"Chremisa,\" the ancient name of Krems, is comm...\n",
       "points                                                        80\n",
       "price                                                          4\n",
       "variety                                              Agiorgitiko\n",
       "winery                                               '37 Cellars\n",
       "dtype: object"
      ]
     },
     "execution_count": 14,
     "metadata": {},
     "output_type": "execute_result"
    }
   ],
   "source": [
    "wine_data.min()\n",
    "#The minimum of each point in the data set"
   ]
  },
  {
   "cell_type": "code",
   "execution_count": 81,
   "metadata": {},
   "outputs": [
    {
     "data": {
      "image/png": "[encoded data removed]",
      "text/plain": [
       "<Figure size 432x288 with 1 Axes>"
      ]
     },
     "metadata": {},
     "output_type": "display_data"
    }
   ],
   "source": [
    "plt.hist(wine_data.points, bins=range(80, 101))\n",
    "plt.title('Wine Scores')\n",
    "plt.ylabel('Number of wines')\n",
    "plt.xlabel('Points')\n",
    "plt.show()\n",
    "#This shows us the ratings of the wines, based on how many points they earned from reviews - \n",
    "#How many wines earned each score. Most of the wines earned mid 80's to low 90's."
   ]
  },
  {
   "cell_type": "code",
   "execution_count": 14,
   "metadata": {},
   "outputs": [
    {
     "data": {
      "text/plain": [
       "87.8884184721394"
      ]
     },
     "execution_count": 14,
     "metadata": {},
     "output_type": "execute_result"
    }
   ],
   "source": [
    "wine_data.points.mean() \n",
    "#The mean of the points rating"
   ]
  },
  {
   "cell_type": "code",
   "execution_count": 15,
   "metadata": {},
   "outputs": [
    {
     "data": {
      "text/plain": [
       "88.0"
      ]
     },
     "execution_count": 15,
     "metadata": {},
     "output_type": "execute_result"
    }
   ],
   "source": [
    "wine_data.points.median() \n",
    "#The median of the points rating"
   ]
  },
  {
   "cell_type": "code",
   "execution_count": 16,
   "metadata": {},
   "outputs": [
    {
     "data": {
      "text/plain": [
       "3.22239175898376"
      ]
     },
     "execution_count": 16,
     "metadata": {},
     "output_type": "execute_result"
    }
   ],
   "source": [
    "wine_data.points.std() \n",
    "#The std of the points rating"
   ]
  },
  {
   "cell_type": "code",
   "execution_count": 13,
   "metadata": {},
   "outputs": [],
   "source": [
    "#From this information, we see that most of the wines in this set are rated in the high 80's, with the average rating\n",
    "#being about 87.89"
   ]
  },
  {
   "cell_type": "code",
   "execution_count": 83,
   "metadata": {
    "scrolled": true
   },
   "outputs": [
    {
     "data": {
      "image/png": "[encoded data removed]",
      "text/plain": [
       "<Figure size 432x288 with 1 Axes>"
      ]
     },
     "metadata": {},
     "output_type": "display_data"
    }
   ],
   "source": [
    "df3 = wine_data.winery.value_counts().head(25) #This shows us the top 25 wineries on the list. The full list is too large\n",
    "#to show on this graph\n",
    "#df3.head(500) #top 500 wineries - this was too large to show on the graph\n",
    "plt.bar(df3.index, df3.values)\n",
    "plt.xticks(rotation=90)\n",
    "plt.title('Wineries and their wine')\n",
    "plt.ylabel('Number of Wines')\n",
    "plt.xlabel('Winery')\n",
    "plt.show()"
   ]
  },
  {
   "cell_type": "code",
   "execution_count": null,
   "metadata": {},
   "outputs": [],
   "source": [
    "#First, we looked at all of the countries and how many different types of wine they produce. We then looked at the \n",
    "#points that the wines scored and found the mean and std for all wines across all countries on the date set. \n",
    "#Next, we looked at the different wineries and how much wine they produce. "
   ]
  },
  {
   "cell_type": "markdown",
   "metadata": {},
   "source": [
    "## Analytic Questions"
   ]
  },
  {
   "cell_type": "code",
   "execution_count": 14,
   "metadata": {},
   "outputs": [],
   "source": [
    "#1 - How do wine scores in US compare to scores in Italy?\n",
    "#2 - How does price differ between US and Italy\n",
    "#3 - What country has the largest variety of wine - US or Italy?\n",
    "#have plots and statistical test for each answer"
   ]
  },
  {
   "cell_type": "markdown",
   "metadata": {},
   "source": [
    "# Q1: How do wine scores in US compare to scores in Italy?"
   ]
  },
  {
   "cell_type": "code",
   "execution_count": 18,
   "metadata": {},
   "outputs": [
    {
     "name": "stdout",
     "output_type": "stream",
     "text": [
      "        Unnamed: 0 country                                        description  \\\n",
      "0                0      US  This tremendous 100% varietal wine hails from ...   \n",
      "2                2      US  Mac Watson honors the memory of a wine once ma...   \n",
      "3                3      US  This spent 20 months in 30% new French oak, an...   \n",
      "8                8      US  This re-named vineyard was formerly bottled as...   \n",
      "9                9      US  The producer sources from two blocks of the vi...   \n",
      "11              11      US  From 18-year-old vines, this supple well-balan...   \n",
      "12              12      US  A standout even in this terrific lineup of 201...   \n",
      "14              14      US  With its sophisticated mix of mineral, acid an...   \n",
      "15              15      US  First made in 2006, this succulent luscious Ch...   \n",
      "16              16      US  This blockbuster, powerhouse of a wine suggest...   \n",
      "19              19      US  This fresh and lively medium-bodied wine is be...   \n",
      "20              20      US  Heitz has made this stellar rosé from the rare...   \n",
      "23              23      US  The apogee of this ambitious winery's white wi...   \n",
      "24              24      US  San Jose-based producer Adam Comartin heads 1,...   \n",
      "26              26      US  Bergström has made a Shea designate since 2003...   \n",
      "27              27      US  Focused and dense, this intense wine captures ...   \n",
      "28              28      US  Cranberry, baked rhubarb, anise and crushed sl...   \n",
      "29              29      US  This standout Rocks District wine brings earth...   \n",
      "31              31      US  Steely and perfumed, this wine sees only 20% n...   \n",
      "34              34      US  The aromas entice with notes of wet stone, hon...   \n",
      "42              42      US  This is an aromatic brooder with aromas of sco...   \n",
      "47              47      US  Blended with 9% Malbec, 9% Cabernet Franc and ...   \n",
      "49              49      US  The aromas of blue fruit, herbs and spice are ...   \n",
      "54              54      US  There's a lot to like in this nicely priced wh...   \n",
      "55              55      US  A blend of Cabernet from Grand Ciel (31%), Cie...   \n",
      "57              57      US  While exuberantly fruity, almost tropical on t...   \n",
      "58              58      US  Cabernet makes up just over half of this blend...   \n",
      "65              65      US  Fresh boysenberries and a blueberry sorbet cha...   \n",
      "67              67      US  From the producer's monumental Atlas Peak vine...   \n",
      "68              68      US  Big, bold, dark and chewy, this builds upon su...   \n",
      "...            ...     ...                                                ...   \n",
      "150812      150812      US  Ripe, muscular wine, with a full throttle nose...   \n",
      "150821      150821      US  Here's a nice, refreshing wine very close in p...   \n",
      "150825      150825      US  Still dependable despite changes in ownership,...   \n",
      "150827      150827      US  Opens with blackberries and spices; fruity, fo...   \n",
      "150831      150831      US  A rich, creamy wine, loaded with personality. ...   \n",
      "150832      150832      US  Enough berry and plum richness and smoky oak t...   \n",
      "150835      150835      US  A little earthy, with plummy aromas accompanie...   \n",
      "150836      150836      US  With this wine, Callaway takes a step away fro...   \n",
      "150837      150837      US  If you didn't know the price and had to guess,...   \n",
      "150847      150847      US  The nose seems lean and vaguely unripe. You ge...   \n",
      "150849      150849      US  Cabernet Franc, used in Bordeaux blends and on...   \n",
      "150852      150852      US  Aromas of sun-dried tomatoes, coffee, cinnamon...   \n",
      "150856      150856      US  White Merlot? Why not? It's actually a deep ro...   \n",
      "150858      150858      US  With a hefty case production, the wine is ligh...   \n",
      "150859      150859      US  A blast of clean, ripe citrus, peach and pear ...   \n",
      "150861      150861      US  From a dependable producer and a fine vintage ...   \n",
      "150865      150865      US  Starts out with Cabernet-like aromas of black ...   \n",
      "150869      150869      US  A clean, well made wine displaying Cab Franc's...   \n",
      "150873      150873      US  With a color akin to the soft pink of ripe pea...   \n",
      "150875      150875      US  From the folks who invented white Zinfandel, a...   \n",
      "150879      150879      US  A heavy wine, atypical of the appellation, whi...   \n",
      "150883      150883      US  A coppery colored, off-dry-to-frankly-sweet wi...   \n",
      "150884      150884      US  Here's a nice everyday drinking wine with some...   \n",
      "150886      150886      US  A soft, round quaffer filled with warmth. Slig...   \n",
      "150889      150889      US  A bizarre style of wine. The aromas are Port-l...   \n",
      "150892      150892      US  A light, earthy wine, with violet, berry and t...   \n",
      "150896      150896      US  Some raspberry fruit in the aroma, but things ...   \n",
      "150914      150914      US  Old-gold in color, and thick and syrupy. The a...   \n",
      "150915      150915      US  Decades ago, Beringer’s then-winemaker Myron N...   \n",
      "150916      150916      US  An impressive wine that presents a full bouque...   \n",
      "\n",
      "                            designation  points  price    province  \\\n",
      "0                     Martha's Vineyard      96  235.0  California   \n",
      "2         Special Selected Late Harvest      96   90.0  California   \n",
      "3                               Reserve      96   65.0      Oregon   \n",
      "8                                Silice      95   65.0      Oregon   \n",
      "9                  Gap's Crown Vineyard      95   60.0  California   \n",
      "11      Estate Vineyard Wadensvil Block      95   48.0      Oregon   \n",
      "12                       Weber Vineyard      95   48.0      Oregon   \n",
      "14                       Grace Vineyard      95  185.0      Oregon   \n",
      "15                               Sigrid      95   90.0      Oregon   \n",
      "16                      Rainin Vineyard      95  325.0  California   \n",
      "19                 Gap's Crown Vineyard      95   75.0  California   \n",
      "20                           Grignolino      95   24.0  California   \n",
      "23                        Giallo Solare      95   60.0  California   \n",
      "24                        R-Bar-R Ranch      95   45.0  California   \n",
      "26                        Shea Vineyard      94   62.0      Oregon   \n",
      "27                              Abetina      94  105.0      Oregon   \n",
      "28                      Garys' Vineyard      94   60.0  California   \n",
      "29                      The Funk Estate      94   60.0  Washington   \n",
      "31                             Babushka      90   37.0  California   \n",
      "34                  Conner Lee Vineyard      90   42.0  Washington   \n",
      "42                      Private Reserve      90   55.0       Idaho   \n",
      "47                         Estate Grown      90   60.0  California   \n",
      "49                                  NaN      90   40.0  Washington   \n",
      "54                                  NaN      90   18.0  California   \n",
      "55                           Four Flags      90   69.0  Washington   \n",
      "57                              Reserve      90   25.0    New York   \n",
      "58                          Final Final      90   30.0  Washington   \n",
      "65                        Estate Select      91   36.0  California   \n",
      "67                                Animo      91   85.0  California   \n",
      "68                   Schindler Vineyard      91   50.0      Oregon   \n",
      "...                                 ...     ...    ...         ...   \n",
      "150812                          Reserve      88   25.0  California   \n",
      "150821                              NaN      87   14.0  California   \n",
      "150825                              NaN      87   22.0  California   \n",
      "150827         Epoch II Millenium Cuvée      87   60.0  California   \n",
      "150831                  Dutton Vineyard      87   22.0  California   \n",
      "150832                              NaN      87   17.0  California   \n",
      "150835                              NaN      86   28.0  California   \n",
      "150836                          Coastal      86   10.0  California   \n",
      "150837                              NaN      86   10.0  California   \n",
      "150847                              NaN      85   20.0  California   \n",
      "150849                              NaN      85   32.0  California   \n",
      "150852                              NaN      85   21.0  California   \n",
      "150856                      Forest Fire      84    8.0  California   \n",
      "150858                              NaN      84   15.0  California   \n",
      "150859                              NaN      84    6.0  California   \n",
      "150861                          Reserve      84   16.0  California   \n",
      "150865                              NaN      84   10.0  California   \n",
      "150869                              NaN      84   24.0  California   \n",
      "150873                            White      83    7.0  California   \n",
      "150875                              NaN      83    6.0  California   \n",
      "150879                              NaN      83   16.0  California   \n",
      "150883                    Reserve White      83    7.0  California   \n",
      "150884                              NaN      83   10.0  California   \n",
      "150886                              NaN      82   10.0  California   \n",
      "150889                  Lafond Vineyard      82   35.0  California   \n",
      "150892                          Coastal      82   10.0  California   \n",
      "150896                              NaN      82   10.0  California   \n",
      "150914      Late Harvest Cluster Select      94   25.0  California   \n",
      "150915                      Nightingale      93   30.0  California   \n",
      "150916                        J. Schram      93   65.0  California   \n",
      "\n",
      "                         region_1                 region_2  \\\n",
      "0                     Napa Valley                     Napa   \n",
      "2                  Knights Valley                   Sonoma   \n",
      "3               Willamette Valley        Willamette Valley   \n",
      "8              Chehalem Mountains        Willamette Valley   \n",
      "9                    Sonoma Coast                   Sonoma   \n",
      "11                   Ribbon Ridge        Willamette Valley   \n",
      "12                   Dundee Hills        Willamette Valley   \n",
      "14                   Dundee Hills        Willamette Valley   \n",
      "15              Willamette Valley        Willamette Valley   \n",
      "16      Diamond Mountain District                     Napa   \n",
      "19                   Sonoma Coast                   Sonoma   \n",
      "20                    Napa Valley                     Napa   \n",
      "23                    Edna Valley            Central Coast   \n",
      "24           Santa Cruz Mountains            Central Coast   \n",
      "26              Willamette Valley                      NaN   \n",
      "27              Willamette Valley        Willamette Valley   \n",
      "28          Santa Lucia Highlands            Central Coast   \n",
      "29        Walla Walla Valley (WA)          Columbia Valley   \n",
      "31           Russian River Valley                   Sonoma   \n",
      "34           Columbia Valley (WA)          Columbia Valley   \n",
      "42                            NaN                      NaN   \n",
      "47                   Mount Veeder                     Napa   \n",
      "49                   Red Mountain          Columbia Valley   \n",
      "54           Russian River Valley                   Sonoma   \n",
      "55                   Red Mountain          Columbia Valley   \n",
      "57                   Finger Lakes             Finger Lakes   \n",
      "58           Columbia Valley (WA)          Columbia Valley   \n",
      "65             Santa Clara Valley            Central Coast   \n",
      "67                    Napa Valley                     Napa   \n",
      "68               Eola-Amity Hills        Willamette Valley   \n",
      "...                           ...                      ...   \n",
      "150812                Napa Valley                     Napa   \n",
      "150821                   Monterey            Central Coast   \n",
      "150825                Napa Valley                     Napa   \n",
      "150827           Dry Creek Valley                   Sonoma   \n",
      "150831       Russian River Valley                   Sonoma   \n",
      "150832              Sonoma County                   Sonoma   \n",
      "150835       Arroyo Grande Valley            Central Coast   \n",
      "150836                 California         California Other   \n",
      "150837              Sonoma County                   Sonoma   \n",
      "150847                Napa Valley                     Napa   \n",
      "150849       Santa Cruz Mountains            Central Coast   \n",
      "150852              Sonoma County                   Sonoma   \n",
      "150856                 California         California Other   \n",
      "150858                Napa Valley                     Napa   \n",
      "150859                 California         California Other   \n",
      "150861              Sonoma County                   Sonoma   \n",
      "150865                 California         California Other   \n",
      "150869              Sonoma Valley                   Sonoma   \n",
      "150873              Amador County         Sierra Foothills   \n",
      "150875                 California         California Other   \n",
      "150879            Anderson Valley  Mendocino/Lake Counties   \n",
      "150883                 California         California Other   \n",
      "150884                 California         California Other   \n",
      "150886                 California         California Other   \n",
      "150889          Santa Ynez Valley            Central Coast   \n",
      "150892                 California         California Other   \n",
      "150896                 California         California Other   \n",
      "150914            Anderson Valley  Mendocino/Lake Counties   \n",
      "150915                North Coast              North Coast   \n",
      "150916                Napa Valley                     Napa   \n",
      "\n",
      "                         variety                         winery  \n",
      "0             Cabernet Sauvignon                          Heitz  \n",
      "2                Sauvignon Blanc                       Macauley  \n",
      "3                     Pinot Noir                          Ponzi  \n",
      "8                     Pinot Noir                      Bergström  \n",
      "9                     Pinot Noir                      Blue Farm  \n",
      "11                    Pinot Noir         Patricia Green Cellars  \n",
      "12                    Pinot Noir         Patricia Green Cellars  \n",
      "14                    Pinot Noir                 Domaine Serene  \n",
      "15                    Chardonnay                      Bergström  \n",
      "16            Cabernet Sauvignon                           Hall  \n",
      "19                    Pinot Noir                   Gary Farrell  \n",
      "20                          Rosé                          Heitz  \n",
      "23                    Chardonnay               Center of Effort  \n",
      "24                    Pinot Noir                       Comartin  \n",
      "26                    Pinot Noir                      Bergström  \n",
      "27                    Pinot Noir                          Ponzi  \n",
      "28                    Pinot Noir                           Roar  \n",
      "29                         Syrah                         Saviah  \n",
      "31                    Chardonnay                       Zepaltas  \n",
      "34                    Chardonnay                           Buty  \n",
      "42                  Petite Sirah                         Huston  \n",
      "47            Cabernet Sauvignon                       Brandlin  \n",
      "49            Cabernet Sauvignon                     Canvasback  \n",
      "54                    Chardonnay                       De Loach  \n",
      "55            Cabernet Sauvignon                        DeLille  \n",
      "57                      Riesling           Dr. Konstantin Frank  \n",
      "58      Cabernet Sauvignon-Syrah                         Efeste  \n",
      "65                         Syrah                 Jason-Stephens  \n",
      "67            Cabernet Sauvignon  Michael Mondavi Family Estate  \n",
      "68                    Pinot Noir                  Panther Creek  \n",
      "...                          ...                            ...  \n",
      "150812                 Zinfandel                     Stonehedge  \n",
      "150821               Pinot Blanc                        Ventana  \n",
      "150825        Cabernet Sauvignon            William Hill Estate  \n",
      "150827        Cabernet Sauvignon             Dry Creek Vineyard  \n",
      "150831                Chardonnay                          Fritz  \n",
      "150832                    Merlot                        Kenwood  \n",
      "150835                Pinot Noir                         Talley  \n",
      "150836                Chardonnay                       Callaway  \n",
      "150837                Chardonnay                  Dreyer Sonoma  \n",
      "150847                    Merlot                         Newlan  \n",
      "150849            Cabernet Franc                 Clos La Chance  \n",
      "150852                    Merlot             Dry Creek Vineyard  \n",
      "150856                Chardonnay                    Forest Glen  \n",
      "150858                Chardonnay            William Hill Estate  \n",
      "150859                Chardonnay                    Sutter Home  \n",
      "150861                Chardonnay                   Clos du Bois  \n",
      "150865                    Merlot                        Compass  \n",
      "150869            Cabernet Franc                         Nelson  \n",
      "150873                 Zinfandel                      Montevina  \n",
      "150875                 Zinfandel                    Sutter Home  \n",
      "150879                Pinot Noir                       Edmeades  \n",
      "150883                 Zinfandel                     Glen Ellen  \n",
      "150884                Chardonnay                     Hawk Crest  \n",
      "150886                    Merlot                        Camelot  \n",
      "150889                Pinot Noir                         Lafond  \n",
      "150892                    Merlot                       Callaway  \n",
      "150896                Pinot Noir                        Camelot  \n",
      "150914            White Riesling                        Navarro  \n",
      "150915               White Blend                       Beringer  \n",
      "150916           Champagne Blend                    Schramsberg  \n",
      "\n",
      "[62397 rows x 11 columns]\n",
      "        Unnamed: 0 country                                        description  \\\n",
      "10              10   Italy  Elegance, complexity and structure come togeth...   \n",
      "32              32   Italy  Underbrush, scorched earth, menthol and plum s...   \n",
      "35              35   Italy  Forest floor, tilled soil, mature berry and a ...   \n",
      "37              37   Italy  Aromas of forest floor, violet, red berry and ...   \n",
      "38              38   Italy  This has a charming nose that boasts rose, vio...   \n",
      "39              39   Italy  This bright, savory wine delivers aromas and f...   \n",
      "43              43   Italy  Aromas of dark-skinned berry, rose and wild he...   \n",
      "45              45   Italy  A blend of 90% Sangiovese and 10% Canaiolo, th...   \n",
      "46              46   Italy  Sunbaked earth, ripe berry, baking spice and a...   \n",
      "48              48   Italy  Ripe dark-skinned berry, forest floor and cook...   \n",
      "50              50   Italy  This robust red opens with aromas of espresso,...   \n",
      "59              59   Italy  This savory blend of 40% Merlot, 30% Cabernet ...   \n",
      "72              72   Italy  This offers aromas of red rose, wild berry, da...   \n",
      "79              79   Italy  Underbrush, smoke, mocha and dark fruit aromas...   \n",
      "82              82   Italy  Berry, baking spice, dried iris, mint and a hi...   \n",
      "83              83   Italy  This hearty red opens with aromas of leafy und...   \n",
      "84              84   Italy  Enticing aromas of woodland berry, crushed ros...   \n",
      "85              85   Italy  Aromas of French oak, coconut, vanilla and spi...   \n",
      "92              92   Italy  Aromas of white spring flower, orchard fruit a...   \n",
      "102            102   Italy  The nose is a bit shy but eventually reveals u...   \n",
      "129            129   Italy  Scents of Spanish broom, pineapple, orchard fr...   \n",
      "130            130   Italy  Juicy and delicious, this has aromas of ripe o...   \n",
      "166            166   Italy  Crushed plum, espresso, tobacco and cedar arom...   \n",
      "167            167   Italy  Aromas of wild berries, violets and a whiff of...   \n",
      "176            176   Italy  Here's a sleek Sangiovese that opens with scen...   \n",
      "177            177   Italy  A robust blend of 70% Sangiovese and 30% Caber...   \n",
      "211            211   Italy  Blue flower, ripe berry, baking spice and mint...   \n",
      "213            213   Italy  Crushed raspberry, blue flower, tilled soil an...   \n",
      "217            217   Italy  Intense aromas of dried rose, leather, truffle...   \n",
      "224            224   Italy  Ripe and delicious, this starts off with aroma...   \n",
      "...            ...     ...                                                ...   \n",
      "150515      150515   Italy  The red cherry fruit bears some mushroom notes...   \n",
      "150516      150516   Italy  As much as we like the retro package, this tim...   \n",
      "150518      150518   Italy  Shows unexpected age, with brown around the ed...   \n",
      "150521      150521   Italy  Looking brown around the edges, this wine is s...   \n",
      "150533      150533   Italy  Light, with some sour cherry fruit on the nose...   \n",
      "150534      150534   Italy  Shows modest dark cherry fruit with cedar and ...   \n",
      "150535      150535   Italy  There's some interesting game and slate accent...   \n",
      "150537      150537   Italy  The cherry aromas and flavors here already hav...   \n",
      "150538      150538   Italy  The nose offers a full, interesting blend of O...   \n",
      "150543      150543   Italy  Just swamped by oak, the slight fruit here is ...   \n",
      "150549      150549   Italy  The juice here seems good, with dark cherry, l...   \n",
      "150552      150552   Italy  Though young in age, this has a light brown ti...   \n",
      "150556      150556   Italy  This is a big burly wine that just has too man...   \n",
      "150557      150557   Italy  The modest cherry, dark berry and black tea no...   \n",
      "150576      150576   Italy  Great depth of fruit characterizes this wine f...   \n",
      "150614      150614   Italy  Displaying a ripe, multifaceted nose with viol...   \n",
      "150691      150691   Italy  Clean and fresh, this Piedmontese white offers...   \n",
      "150734      150734   Italy  Brisk acidity and a lean but smooth profile ch...   \n",
      "150767      150767   Italy  Dense aromatics with black plum, game, leather...   \n",
      "150776      150776   Italy  This very internationally-styled blend of Sang...   \n",
      "150798      150798   Italy  Very supple on the palate, this Cabernet Sauvi...   \n",
      "150799      150799   Italy  This is a large-scaled rosso, and oak is used ...   \n",
      "150804      150804   Italy  Pinot Grigio is more commonly associated with ...   \n",
      "150823      150823   Italy  This unique red sparkler from Piedmont offers ...   \n",
      "150824      150824   Italy  This 100% Cortese wine has a slight fizz and a...   \n",
      "150920      150920   Italy  Rich and mature aromas of smoke, earth and her...   \n",
      "150922      150922   Italy  Made by 30-ish Roberta Borghese high above Man...   \n",
      "150925      150925   Italy  Many people feel Fiano represents southern Ita...   \n",
      "150927      150927   Italy  This classic example comes from a cru vineyard...   \n",
      "150929      150929   Italy  More Pinot Grigios should taste like this. A r...   \n",
      "\n",
      "                            designation  points  price            province  \\\n",
      "10                   Ronco della Chiesa      95   80.0  Northeastern Italy   \n",
      "32                        Vigna Piaggia      90    NaN             Tuscany   \n",
      "35                              Riserva      90  135.0             Tuscany   \n",
      "37                                  NaN      90   29.0             Tuscany   \n",
      "38                                  NaN      90   23.0             Tuscany   \n",
      "39                              Riserva      90   29.0             Tuscany   \n",
      "43                              Riserva      90   39.0             Tuscany   \n",
      "45      Vigneto Odoardo Beccari Riserva      90   30.0             Tuscany   \n",
      "46                     Poggio alle Mura      90   90.0             Tuscany   \n",
      "48                                  NaN      90   50.0             Tuscany   \n",
      "50                              Riserva      90  100.0             Tuscany   \n",
      "59                      Poggio Bestiale      90   60.0             Tuscany   \n",
      "72                       Bussia Riserva      91    NaN            Piedmont   \n",
      "79                              Boscato      91   75.0            Piedmont   \n",
      "82                     Palliano Riserva      91    NaN            Piedmont   \n",
      "83      del Comune di Serralunga d'Alba      91   59.0            Piedmont   \n",
      "84                       Bricco Luciani      91   85.0            Piedmont   \n",
      "85                       Bricco Gattera      91   80.0            Piedmont   \n",
      "92                               Nature      86   22.0              Veneto   \n",
      "102                                 NaN      86   45.0             Tuscany   \n",
      "129                      Chianta Bianco      90   45.0   Sicily & Sardinia   \n",
      "130                                 NaN      90   18.0      Southern Italy   \n",
      "166                           Le Redini      89   25.0             Tuscany   \n",
      "167                        Il Guardiano      89   22.0             Tuscany   \n",
      "176                      Palazzo Altesi      89   40.0             Tuscany   \n",
      "177                            Il Borgo      89   57.0             Tuscany   \n",
      "211                               Nervo      93   49.0            Piedmont   \n",
      "213                             Fausoni      93   58.0            Piedmont   \n",
      "217                                 NaN      93   80.0            Piedmont   \n",
      "224                              Pajorè      93   58.0            Piedmont   \n",
      "...                                 ...     ...    ...                 ...   \n",
      "150515                          Riserva      83   13.0             Tuscany   \n",
      "150516                      Castelrotto      83   26.0             Tuscany   \n",
      "150518                          Riserva      83   26.0             Tuscany   \n",
      "150521                          Riserva      83   22.0             Tuscany   \n",
      "150533                              NaN      83   10.0             Tuscany   \n",
      "150534                              NaN      83   18.0             Tuscany   \n",
      "150535              I Sodi del Paretaio      83   11.0             Tuscany   \n",
      "150537                          Riserva      83   12.0             Tuscany   \n",
      "150538                              NaN      83   11.0             Tuscany   \n",
      "150543                              NaN      82   16.0             Tuscany   \n",
      "150549                          Riserva      82   28.0             Tuscany   \n",
      "150552                              NaN      82    6.0             Tuscany   \n",
      "150556                   Chianti Rufina      81   12.0             Tuscany   \n",
      "150557                              NaN      81   15.0             Tuscany   \n",
      "150576                              NaN      92   50.0            Piedmont   \n",
      "150614                              NaN      89   40.0            Piedmont   \n",
      "150691                          Le Lune      86   14.0            Piedmont   \n",
      "150734                              NaN      84   10.0            Piedmont   \n",
      "150767                              NaN      92   54.0             Tuscany   \n",
      "150776                           Summus      91   63.0             Tuscany   \n",
      "150798                         Excelsus      89   73.0             Tuscany   \n",
      "150799                              NaN      89   22.0             Tuscany   \n",
      "150804                       San Angelo      88   13.0             Tuscany   \n",
      "150823                              NaN      87   23.0            Piedmont   \n",
      "150824                              NaN      87   18.0            Piedmont   \n",
      "150920                     Brut Riserva      91   19.0  Northeastern Italy   \n",
      "150922                        Superiore      91    NaN  Northeastern Italy   \n",
      "150925                              NaN      91   20.0      Southern Italy   \n",
      "150927                    Terre di Dora      91   20.0      Southern Italy   \n",
      "150929                              NaN      90   15.0  Northeastern Italy   \n",
      "\n",
      "                            region_1 region_2                    variety  \\\n",
      "10                            Collio      NaN                   Friulano   \n",
      "32            Brunello di Montalcino      NaN                 Sangiovese   \n",
      "35            Brunello di Montalcino      NaN                 Sangiovese   \n",
      "37      Vino Nobile di Montepulciano      NaN                 Sangiovese   \n",
      "38                  Chianti Classico      NaN                 Sangiovese   \n",
      "39                  Chianti Classico      NaN                  Red Blend   \n",
      "43                  Chianti Classico      NaN                  Red Blend   \n",
      "45                  Chianti Classico      NaN                  Red Blend   \n",
      "46            Brunello di Montalcino      NaN                 Sangiovese   \n",
      "48            Brunello di Montalcino      NaN                 Sangiovese   \n",
      "50            Brunello di Montalcino      NaN                 Sangiovese   \n",
      "59                   Maremma Toscana      NaN                  Red Blend   \n",
      "72                            Barolo      NaN                   Nebbiolo   \n",
      "79                            Barolo      NaN                   Nebbiolo   \n",
      "82                             Roero      NaN                   Nebbiolo   \n",
      "83                            Barolo      NaN                   Nebbiolo   \n",
      "84                            Barolo      NaN                   Nebbiolo   \n",
      "85                            Barolo      NaN                   Nebbiolo   \n",
      "92                          Prosecco      NaN                      Glera   \n",
      "102           Brunello di Montalcino      NaN                 Sangiovese   \n",
      "129                             Etna      NaN                White Blend   \n",
      "130                    Greco di Tufo      NaN                      Greco   \n",
      "166                          Toscana      NaN                  Red Blend   \n",
      "167                          Toscana      NaN                  Red Blend   \n",
      "176                          Toscana      NaN                 Sangiovese   \n",
      "177                          Toscana      NaN                  Red Blend   \n",
      "211                       Barbaresco      NaN                   Nebbiolo   \n",
      "213                       Barbaresco      NaN                   Nebbiolo   \n",
      "217                           Barolo      NaN                   Nebbiolo   \n",
      "224                       Barbaresco      NaN                   Nebbiolo   \n",
      "...                              ...      ...                        ...   \n",
      "150515              Chianti Classico      NaN                 Sangiovese   \n",
      "150516                       Chianti      NaN                 Sangiovese   \n",
      "150518              Chianti Classico      NaN                 Sangiovese   \n",
      "150521              Chianti Classico      NaN                 Sangiovese   \n",
      "150533              Chianti Classico      NaN                 Sangiovese   \n",
      "150534              Chianti Classico      NaN                 Sangiovese   \n",
      "150535                       Chianti      NaN                 Sangiovese   \n",
      "150537                       Chianti      NaN                 Sangiovese   \n",
      "150538              Chianti Classico      NaN                 Sangiovese   \n",
      "150543              Chianti Classico      NaN                 Sangiovese   \n",
      "150549              Chianti Classico      NaN                 Sangiovese   \n",
      "150552                       Chianti      NaN                 Sangiovese   \n",
      "150556                Chianti Rufina      NaN                 Sangiovese   \n",
      "150557              Chianti Classico      NaN                 Sangiovese   \n",
      "150576                        Barolo      NaN                   Nebbiolo   \n",
      "150614                        Barolo      NaN                   Nebbiolo   \n",
      "150691                          Gavi      NaN                    Cortese   \n",
      "150734                    Monferrato      NaN                    Barbera   \n",
      "150767        Brunello di Montalcino      NaN                 Sangiovese   \n",
      "150776                   Sant'Antimo      NaN                 Sangiovese   \n",
      "150798                       Toscana      NaN  Cabernet Sauvignon-Merlot   \n",
      "150799           Rosso di Montalcino      NaN                 Sangiovese   \n",
      "150804                       Toscana      NaN               Pinot Grigio   \n",
      "150823             Brachetto d'Acqui      NaN                 Sangiovese   \n",
      "150824                          Gavi      NaN                    Cortese   \n",
      "150920                        Trento      NaN            Champagne Blend   \n",
      "150922    Colli Orientali del Friuli      NaN                      Tocai   \n",
      "150925             Fiano di Avellino      NaN                White Blend   \n",
      "150927             Fiano di Avellino      NaN                White Blend   \n",
      "150929                    Alto Adige      NaN               Pinot Grigio   \n",
      "\n",
      "                          winery  \n",
      "10              Borgo del Tiglio  \n",
      "32               Abbadia Ardenga  \n",
      "35                      Carillon  \n",
      "37                    Avignonesi  \n",
      "38              Casina di Cornia  \n",
      "39      Castello di Monterinaldi  \n",
      "43                       Rignana  \n",
      "45                  Vignavecchia  \n",
      "46                         Banfi  \n",
      "48            Brunelli Martoccia  \n",
      "50                 Capanne Ricci  \n",
      "59          Fattoria di Magliano  \n",
      "72               Silvano Bolmida  \n",
      "79                     Bel Colle  \n",
      "82                         Ceste  \n",
      "83                 Cascina Cucco  \n",
      "84         Cascina del Monastero  \n",
      "85        Cordero di Montezemolo  \n",
      "92                    De Stefani  \n",
      "102                  Il Grappolo  \n",
      "129                       Biondi  \n",
      "130             Cantine di Marzo  \n",
      "166             Tenuta degli Dei  \n",
      "167              Poggio Mandorlo  \n",
      "176                     Altesino  \n",
      "177                       Cabreo  \n",
      "211                        Rizzi  \n",
      "213                    Sottimano  \n",
      "217                     Borgogno  \n",
      "224                    Sottimano  \n",
      "...                          ...  \n",
      "150515                   Piccini  \n",
      "150516              Giacomo Mori  \n",
      "150518                Castellare  \n",
      "150521                   Valiano  \n",
      "150533                      Coli  \n",
      "150534             Vigna Piccola  \n",
      "150535          Badia di Morrona  \n",
      "150537                Castellani  \n",
      "150538                     Nando  \n",
      "150543               Campomaggio  \n",
      "150549                   Pruneto  \n",
      "150552                   Piccini  \n",
      "150556                 Colognole  \n",
      "150557                   Valiano  \n",
      "150576        Marchesi di Barolo  \n",
      "150614        Marchesi di Barolo  \n",
      "150691        Marchesi di Barolo  \n",
      "150734        Marchesi di Barolo  \n",
      "150767            Castello Banfi  \n",
      "150776            Castello Banfi  \n",
      "150798            Castello Banfi  \n",
      "150799            Castello Banfi  \n",
      "150804            Castello Banfi  \n",
      "150823                     Banfi  \n",
      "150824         Principessa Gavia  \n",
      "150920                   Letrari  \n",
      "150922         Ronchi di Manzano  \n",
      "150925     Feudi di San Gregorio  \n",
      "150927                 Terredora  \n",
      "150929             Alois Lageder  \n",
      "\n",
      "[23478 rows x 11 columns]\n"
     ]
    }
   ],
   "source": [
    "us = wine_data[wine_data.country == 'US']\n",
    "italy = wine_data[wine_data.country == 'Italy']\n",
    "print(us)\n",
    "print(italy)\n",
    "#Here, we created data sets for the the 2 countries that we are going to focus on for all 3 questions: US and Italy."
   ]
  },
  {
   "cell_type": "code",
   "execution_count": 19,
   "metadata": {},
   "outputs": [
    {
     "data": {
      "text/plain": [
       "87     8208\n",
       "88     6539\n",
       "90     6338\n",
       "86     5936\n",
       "85     5181\n",
       "84     5084\n",
       "92     4399\n",
       "89     4290\n",
       "91     4168\n",
       "83     2914\n",
       "93     2802\n",
       "82     2374\n",
       "94     1724\n",
       "95      798\n",
       "81      688\n",
       "80      418\n",
       "96      316\n",
       "97      144\n",
       "98       50\n",
       "99       16\n",
       "100      10\n",
       "Name: points, dtype: int64"
      ]
     },
     "execution_count": 19,
     "metadata": {},
     "output_type": "execute_result"
    }
   ],
   "source": [
    "us.points.value_counts()\n",
    "#This shows us the scores for wines in the US and how many wines achieved those scores."
   ]
  },
  {
   "cell_type": "code",
   "execution_count": 55,
   "metadata": {},
   "outputs": [
    {
     "data": {
      "text/plain": [
       "87     4400\n",
       "88     3432\n",
       "90     2743\n",
       "86     2655\n",
       "89     2176\n",
       "91     1826\n",
       "92     1531\n",
       "85     1519\n",
       "93      941\n",
       "84      824\n",
       "94      503\n",
       "83      356\n",
       "95      234\n",
       "82      121\n",
       "96       64\n",
       "97       57\n",
       "81       41\n",
       "98       23\n",
       "99       16\n",
       "80        9\n",
       "100       7\n",
       "Name: points, dtype: int64"
      ]
     },
     "execution_count": 55,
     "metadata": {},
     "output_type": "execute_result"
    }
   ],
   "source": [
    "italy.points.value_counts()\n",
    "#This shows us the scores for wines in Italy and how many wines achieved those scores."
   ]
  },
  {
   "cell_type": "code",
   "execution_count": 84,
   "metadata": {},
   "outputs": [
    {
     "data": {
      "image/png": "[encoded data removed]",
      "text/plain": [
       "<Figure size 432x288 with 1 Axes>"
      ]
     },
     "metadata": {},
     "output_type": "display_data"
    }
   ],
   "source": [
    "plt.plot(us.points.value_counts(), 'go')\n",
    "plt.plot(italy.points.value_counts(), 'ro')\n",
    "plt.title('Wine Scores')\n",
    "plt.ylabel('Number of wines')\n",
    "plt.xlabel('Points')\n",
    "plt.show()\n",
    "#This plot shows us a representation of the number of wines in the US (green) and Italy (red) and their points' scores."
   ]
  },
  {
   "cell_type": "code",
   "execution_count": 35,
   "metadata": {},
   "outputs": [
    {
     "data": {
      "text/plain": [
       "87.81878936487331"
      ]
     },
     "execution_count": 35,
     "metadata": {},
     "output_type": "execute_result"
    }
   ],
   "source": [
    "us.points.mean() \n",
    "#The mean of the points in the US."
   ]
  },
  {
   "cell_type": "code",
   "execution_count": 36,
   "metadata": {},
   "outputs": [
    {
     "data": {
      "text/plain": [
       "3.4102940220492948"
      ]
     },
     "execution_count": 36,
     "metadata": {},
     "output_type": "execute_result"
    }
   ],
   "source": [
    "us.points.std()\n",
    "#The std of the points in the US"
   ]
  },
  {
   "cell_type": "code",
   "execution_count": 37,
   "metadata": {},
   "outputs": [
    {
     "data": {
      "text/plain": [
       "88.41366385552432"
      ]
     },
     "execution_count": 37,
     "metadata": {},
     "output_type": "execute_result"
    }
   ],
   "source": [
    "italy.points.mean()\n",
    "#The mean of the points in Italy"
   ]
  },
  {
   "cell_type": "code",
   "execution_count": 38,
   "metadata": {},
   "outputs": [
    {
     "data": {
      "text/plain": [
       "2.7289135623826075"
      ]
     },
     "execution_count": 38,
     "metadata": {},
     "output_type": "execute_result"
    }
   ],
   "source": [
    "italy.points.std()\n",
    "#The std of the points in Italy. Based on this data, the wine scores in Italy tend to be closer to the mean score\n",
    "#than in the US."
   ]
  },
  {
   "cell_type": "code",
   "execution_count": 21,
   "metadata": {},
   "outputs": [
    {
     "name": "stdout",
     "output_type": "stream",
     "text": [
      "Ttest_indResult(statistic=-26.508913405224366, pvalue=7.966664707470042e-154)\n"
     ]
    }
   ],
   "source": [
    "import scipy\n",
    "from scipy.stats import ttest_ind\n",
    "print(ttest_ind(us.points.values, italy.points.values, equal_var=False))\n",
    "#T-test and p-value of the previous data. The t-test is larger, which tells us that there is meaningful difference between\n",
    "#the 2 populations.\n",
    "#The p-value is relatively small, which means there is a good chance that the data did not occur by chance. "
   ]
  },
  {
   "cell_type": "code",
   "execution_count": 65,
   "metadata": {},
   "outputs": [
    {
     "name": "stdout",
     "output_type": "stream",
     "text": [
      "Ttest_indResult(statistic=26.508913405224366, pvalue=7.966664707470042e-154)\n"
     ]
    }
   ],
   "source": [
    "print(ttest_ind(italy.points.values, us.points.values, equal_var=False))\n",
    "#Here, we simply flipped the values of US and Italy so that the t-test did not give a negative number."
   ]
  },
  {
   "cell_type": "code",
   "execution_count": 46,
   "metadata": {},
   "outputs": [
    {
     "name": "stdout",
     "output_type": "stream",
     "text": [
      "26.50891340522437\n",
      "0.5948744906510086\n",
      "0.022440545998908084\n"
     ]
    }
   ],
   "source": [
    "diff=italy.points.mean( ) -us.points.mean()\n",
    "\n",
    "size = np.array([len(us.points), len(italy.points)])\n",
    "sd = np.array([us.points.std(), italy.points.std()])\n",
    "\n",
    "# The squared standard deviations are divided by the sample size and summed, then we take\n",
    "# the square root of the sum. \n",
    "diff_se = (sum(sd ** 2 / size)) ** 0.5  \n",
    "\n",
    "#The difference between the means divided by the standard error: T-value.  \n",
    "print(diff/diff_se)\n",
    "\n",
    "print(diff)\n",
    "print(diff_se)\n",
    "\n",
    "#This is the same t-test, but written the long way."
   ]
  },
  {
   "cell_type": "markdown",
   "metadata": {},
   "source": [
    "According to this data, italian wine is higher quality than the wine in the US on average: the mean score is higher.\n",
    "However, there are more total wines in the US and thus, more wine with a higher points score. \n",
    "\n",
    "The p-value is relatively small, meaning there is a good chance that the data does not come from the same underlying distribition. Again, we can safely assume that there is a significant difference in the distributions of points - or, in our case, significant difference in quality."
   ]
  },
  {
   "cell_type": "markdown",
   "metadata": {},
   "source": [
    "# Q2: How does price differ between US and Italy?"
   ]
  },
  {
   "cell_type": "code",
   "execution_count": 63,
   "metadata": {},
   "outputs": [
    {
     "data": {
      "text/plain": [
       "20.0      3452\n",
       "25.0      3216\n",
       "30.0      3056\n",
       "18.0      2878\n",
       "35.0      2703\n",
       "15.0      2405\n",
       "40.0      2347\n",
       "28.0      2339\n",
       "45.0      2029\n",
       "50.0      1971\n",
       "24.0      1945\n",
       "22.0      1928\n",
       "16.0      1727\n",
       "32.0      1539\n",
       "10.0      1485\n",
       "14.0      1357\n",
       "12.0      1321\n",
       "38.0      1279\n",
       "13.0      1198\n",
       "19.0      1142\n",
       "60.0      1133\n",
       "42.0      1049\n",
       "55.0      1041\n",
       "36.0      1032\n",
       "17.0      1001\n",
       "48.0       979\n",
       "26.0       960\n",
       "75.0       932\n",
       "11.0       823\n",
       "65.0       774\n",
       "          ... \n",
       "199.0        3\n",
       "500.0        3\n",
       "93.0         2\n",
       "111.0        2\n",
       "107.0        2\n",
       "119.0        2\n",
       "77.0         2\n",
       "106.0        2\n",
       "109.0        2\n",
       "290.0        2\n",
       "160.0        2\n",
       "625.0        2\n",
       "81.0         2\n",
       "2013.0       1\n",
       "102.0        1\n",
       "450.0        1\n",
       "179.0        1\n",
       "180.0        1\n",
       "101.0        1\n",
       "147.0        1\n",
       "230.0        1\n",
       "189.0        1\n",
       "108.0        1\n",
       "325.0        1\n",
       "260.0        1\n",
       "335.0        1\n",
       "87.0         1\n",
       "118.0        1\n",
       "126.0        1\n",
       "168.0        1\n",
       "Name: price, Length: 149, dtype: int64"
      ]
     },
     "execution_count": 63,
     "metadata": {},
     "output_type": "execute_result"
    }
   ],
   "source": [
    "us.price.value_counts()\n",
    "#This lists the number of wines and their prices in the US."
   ]
  },
  {
   "cell_type": "code",
   "execution_count": 64,
   "metadata": {},
   "outputs": [
    {
     "data": {
      "text/plain": [
       "20.0     1033\n",
       "15.0      991\n",
       "18.0      860\n",
       "25.0      711\n",
       "30.0      685\n",
       "16.0      660\n",
       "40.0      613\n",
       "17.0      596\n",
       "19.0      577\n",
       "50.0      565\n",
       "13.0      523\n",
       "10.0      506\n",
       "12.0      494\n",
       "45.0      470\n",
       "60.0      459\n",
       "35.0      438\n",
       "14.0      437\n",
       "22.0      418\n",
       "24.0      375\n",
       "21.0      333\n",
       "55.0      331\n",
       "28.0      316\n",
       "11.0      306\n",
       "65.0      277\n",
       "23.0      275\n",
       "70.0      273\n",
       "75.0      245\n",
       "26.0      227\n",
       "29.0      218\n",
       "9.0       208\n",
       "         ... \n",
       "293.0       2\n",
       "375.0       2\n",
       "107.0       2\n",
       "157.0       2\n",
       "185.0       2\n",
       "167.0       1\n",
       "420.0       1\n",
       "800.0       1\n",
       "217.0       1\n",
       "116.0       1\n",
       "137.0       1\n",
       "142.0       1\n",
       "419.0       1\n",
       "268.0       1\n",
       "205.0       1\n",
       "153.0       1\n",
       "235.0       1\n",
       "550.0       1\n",
       "111.0       1\n",
       "132.0       1\n",
       "625.0       1\n",
       "143.0       1\n",
       "530.0       1\n",
       "330.0       1\n",
       "113.0       1\n",
       "124.0       1\n",
       "122.0       1\n",
       "500.0       1\n",
       "900.0       1\n",
       "151.0       1\n",
       "Name: price, Length: 192, dtype: int64"
      ]
     },
     "execution_count": 64,
     "metadata": {},
     "output_type": "execute_result"
    }
   ],
   "source": [
    "italy.price.value_counts()\n",
    "#This lists the number of wines and their prices in the Italy."
   ]
  },
  {
   "cell_type": "code",
   "execution_count": 71,
   "metadata": {},
   "outputs": [
    {
     "data": {
      "image/png": "[encoded data removed]",
      "text/plain": [
       "<Figure size 432x288 with 1 Axes>"
      ]
     },
     "metadata": {},
     "output_type": "display_data"
    }
   ],
   "source": [
    "us.boxplot(column=['price'])\n",
    "#There is one big outlier"
   ]
  },
  {
   "cell_type": "code",
   "execution_count": 72,
   "metadata": {},
   "outputs": [
    {
     "data": {
      "text/plain": [
       "<matplotlib.axes._subplots.AxesSubplot at 0x118f7dd30>"
      ]
     },
     "execution_count": 72,
     "metadata": {},
     "output_type": "execute_result"
    },
    {
     "data": {
      "image/png": "[encoded data removed]",
      "text/plain": [
       "<Figure size 432x288 with 1 Axes>"
      ]
     },
     "metadata": {},
     "output_type": "display_data"
    }
   ],
   "source": [
    "italy.boxplot(column=['price'])\n",
    "#There are outliers, but much smaller than US"
   ]
  },
  {
   "cell_type": "code",
   "execution_count": 58,
   "metadata": {},
   "outputs": [
    {
     "data": {
      "text/plain": [
       "33.65380839730282"
      ]
     },
     "execution_count": 58,
     "metadata": {},
     "output_type": "execute_result"
    }
   ],
   "source": [
    "us.price.mean()\n",
    "#The mean price of wine in the US"
   ]
  },
  {
   "cell_type": "code",
   "execution_count": 59,
   "metadata": {},
   "outputs": [
    {
     "data": {
      "text/plain": [
       "24.891342850313766"
      ]
     },
     "execution_count": 59,
     "metadata": {},
     "output_type": "execute_result"
    }
   ],
   "source": [
    "us.price.std()\n",
    "#The std of the price of wine in the US"
   ]
  },
  {
   "cell_type": "code",
   "execution_count": 60,
   "metadata": {},
   "outputs": [
    {
     "data": {
      "text/plain": [
       "37.54791311754685"
      ]
     },
     "execution_count": 60,
     "metadata": {},
     "output_type": "execute_result"
    }
   ],
   "source": [
    "italy.price.mean()\n",
    "#The mean price of wine in the US"
   ]
  },
  {
   "cell_type": "code",
   "execution_count": 61,
   "metadata": {},
   "outputs": [
    {
     "data": {
      "text/plain": [
       "37.067868559293416"
      ]
     },
     "execution_count": 61,
     "metadata": {},
     "output_type": "execute_result"
    }
   ],
   "source": [
    "italy.price.std()\n",
    "#The std of the price of wine in Italy\n",
    "#most of our wines are between .50 and $78 per bottle - italy is more skewed to the top with outliers"
   ]
  },
  {
   "cell_type": "markdown",
   "metadata": {},
   "source": [
    "#### Here, we looked at boxplots of the price of wine in both countries to identify any outliers in the data. We found that the largest outlier is in the US. However, there are more outliers in Italy, which skews the mean to be higher in Italy than in the US."
   ]
  },
  {
   "cell_type": "code",
   "execution_count": 77,
   "metadata": {},
   "outputs": [
    {
     "data": {
      "image/png": "[encoded data removed]",
      "text/plain": [
       "<Figure size 432x288 with 1 Axes>"
      ]
     },
     "metadata": {},
     "output_type": "display_data"
    }
   ],
   "source": [
    "plt.hist(us.price.dropna(), color='blue', bins=range(0, 250, 10), alpha=.5)\n",
    "plt.hist(italy.price.dropna(), color='red', bins=range(0, 250, 10), alpha=.5)\n",
    "plt.title('Distribution of wine prices less than $250')\n",
    "plt.xlabel('Price')\n",
    "plt.ylabel('Count')\n",
    "plt.show()\n",
    "#For this plot, we took out the rows with empty data so that the graph is a little easier to read and thus, be more useful."
   ]
  },
  {
   "cell_type": "code",
   "execution_count": 38,
   "metadata": {},
   "outputs": [
    {
     "name": "stdout",
     "output_type": "stream",
     "text": [
      "38\n"
     ]
    }
   ],
   "source": [
    "print(len(us[us.price > 250]))\n",
    "#Here, we looked at the number of wines in the US that are priced $250 and up."
   ]
  },
  {
   "cell_type": "code",
   "execution_count": 39,
   "metadata": {},
   "outputs": [
    {
     "name": "stdout",
     "output_type": "stream",
     "text": [
      "73\n"
     ]
    }
   ],
   "source": [
    "print(len(italy[italy.price > 250]))\n",
    "#Here, we looked at the number of wines in Italy that are priced $250 and up\n",
    "#This makes sense when we look at the rest of the data, because the mean price is higher in Italy then in the US,\n",
    "#even though the US has more total wine."
   ]
  },
  {
   "cell_type": "code",
   "execution_count": 41,
   "metadata": {},
   "outputs": [
    {
     "name": "stdout",
     "output_type": "stream",
     "text": [
      "Ttest_indResult(statistic=-13.506903150324424, pvalue=2.014587823417292e-41)\n"
     ]
    }
   ],
   "source": [
    "print(ttest_ind(us.price.dropna().values, italy.price.dropna().values, equal_var=False))"
   ]
  },
  {
   "cell_type": "markdown",
   "metadata": {},
   "source": [
    "We ran the t-test and p-value for the price data set. The t-test is fairly large, which tells us that the data likely did not happen by chance and is more likely that there is significant difference between the 2 populations.\n",
    "The p-score is small, which confirms that thr\\ere is meaningful difference between the 2 populations."
   ]
  },
  {
   "cell_type": "markdown",
   "metadata": {},
   "source": [
    "We found that, on average, Italy has more expensive wines than US, even though the US has more wine the most expensive single wine. "
   ]
  },
  {
   "cell_type": "code",
   "execution_count": 32,
   "metadata": {},
   "outputs": [
    {
     "name": "stdout",
     "output_type": "stream",
     "text": [
      "4.0\n"
     ]
    }
   ],
   "source": [
    "print(min(us.price))\n",
    "#minimum price of wine in the US"
   ]
  },
  {
   "cell_type": "code",
   "execution_count": 56,
   "metadata": {},
   "outputs": [
    {
     "name": "stdout",
     "output_type": "stream",
     "text": [
      "2013.0\n"
     ]
    }
   ],
   "source": [
    "print(max(us.price))\n",
    "#maximum price of wine in the US"
   ]
  },
  {
   "cell_type": "code",
   "execution_count": 33,
   "metadata": {},
   "outputs": [
    {
     "name": "stdout",
     "output_type": "stream",
     "text": [
      "5.0\n"
     ]
    }
   ],
   "source": [
    "print(min(italy.price))\n",
    "#minimum price of wine in Italy"
   ]
  },
  {
   "cell_type": "code",
   "execution_count": 57,
   "metadata": {},
   "outputs": [
    {
     "name": "stdout",
     "output_type": "stream",
     "text": [
      "900.0\n"
     ]
    }
   ],
   "source": [
    "print(max(italy.price))\n",
    "#maximum price of wine in Italy"
   ]
  },
  {
   "cell_type": "markdown",
   "metadata": {},
   "source": [
    "The data tells us that Italy has more expensive wine, on average, than the US. Also, the mean price of wine in Italy is higher,\n",
    "even though the US has the more wine and the highest price wine of the 2 countries.\n",
    "This also tells us that the quality of wine is better in Italy than in the US, on average. The std of the Italy set is very small\n",
    "which means that the points are close to the mean.\n",
    "It makes sesne that italy has better wine because it is more expensiv"
   ]
  },
  {
   "cell_type": "markdown",
   "metadata": {},
   "source": [
    "# Q3 - What country has the largest variety of wine - US or Italy?"
   ]
  },
  {
   "cell_type": "code",
   "execution_count": 49,
   "metadata": {},
   "outputs": [
    {
     "data": {
      "image/png": "[encoded data removed]",
      "text/plain": [
       "<Figure size 432x288 with 1 Axes>"
      ]
     },
     "metadata": {},
     "output_type": "display_data"
    }
   ],
   "source": [
    "plt.scatter(us.variety.value_counts().head(25).index, us.variety.value_counts().head(25).values)\n",
    "plt.xticks(rotation=90)\n",
    "plt.show()\n",
    "#Here, we used a scatter plot to show us the variety of wine from the first 25 data points in the data\n",
    "#and how much of that wine is produced. We found that there are 3 large outliers in this data."
   ]
  },
  {
   "cell_type": "code",
   "execution_count": 50,
   "metadata": {},
   "outputs": [
    {
     "data": {
      "image/png": "[encoded data removed]",
      "text/plain": [
       "<Figure size 432x288 with 1 Axes>"
      ]
     },
     "metadata": {},
     "output_type": "display_data"
    }
   ],
   "source": [
    "plt.scatter(italy.variety.value_counts().head(25).index, italy.variety.value_counts().head(25).values)\n",
    "plt.xticks(rotation=90)\n",
    "plt.show()\n",
    "#We did the same thing of Italy and found that there really arent any significant outliers."
   ]
  },
  {
   "cell_type": "markdown",
   "metadata": {},
   "source": [
    "NOTE: We only took the top 25 wines, but there are many more that were not accounted for in these plots.\n",
    "We learned that the US has more varieties of wine than Italy. While looking at the data, I was able to find some overlapping wines: cabernet savignon, chardonnay, syrah, rose, white blend, and pinot grigio in the first 25 wines in the set.\n"
   ]
  },
  {
   "cell_type": "code",
   "execution_count": 52,
   "metadata": {},
   "outputs": [
    {
     "data": {
      "text/plain": [
       "177"
      ]
     },
     "execution_count": 52,
     "metadata": {},
     "output_type": "execute_result"
    }
   ],
   "source": [
    "len(italy.variety.unique())\n",
    "#We discovered how many types of wine Italy produces"
   ]
  },
  {
   "cell_type": "code",
   "execution_count": 54,
   "metadata": {},
   "outputs": [
    {
     "data": {
      "text/plain": [
       "218"
      ]
     },
     "execution_count": 54,
     "metadata": {},
     "output_type": "execute_result"
    }
   ],
   "source": [
    "len(us.variety.unique())\n",
    "#We discovered how many types of wine the US produces"
   ]
  },
  {
   "cell_type": "code",
   "execution_count": 59,
   "metadata": {},
   "outputs": [
    {
     "data": {
      "text/plain": [
       "2320.88"
      ]
     },
     "execution_count": 59,
     "metadata": {},
     "output_type": "execute_result"
    }
   ],
   "source": [
    "us.variety.value_counts().head(25).mean()\n",
    "#This is the mean of the number of wines produced in the US given the type of wine, when you only factor in the first 25 on the data set"
   ]
  },
  {
   "cell_type": "code",
   "execution_count": 60,
   "metadata": {},
   "outputs": [
    {
     "data": {
      "text/plain": [
       "811.28"
      ]
     },
     "execution_count": 60,
     "metadata": {},
     "output_type": "execute_result"
    }
   ],
   "source": [
    "italy.variety.value_counts().head(25).mean()\n",
    "#This is the mean of the number of wines produced in Italy given the type of wine, when you only factor in the first 25 on the data set"
   ]
  },
  {
   "cell_type": "markdown",
   "metadata": {},
   "source": [
    "## Propose further Research"
   ]
  },
  {
   "cell_type": "markdown",
   "metadata": {},
   "source": [
    "Write a program to predict the rating of a given wine when we know what type the wine is and where it came from?\n",
    "Would this be enough information to make a good rating? If so, what kind of model would work well for this? \n",
    "Predict what the price of the wine would be?"
   ]
  }
 ],
 "metadata": {
  "kernelspec": {
   "display_name": "Python 3",
   "language": "python",
   "name": "python3"
  },
  "language_info": {
   "codemirror_mode": {
    "name": "ipython",
    "version": 3
   },
   "file_extension": ".py",
   "mimetype": "text/x-python",
   "name": "python",
   "nbconvert_exporter": "python",
   "pygments_lexer": "ipython3",
   "version": "3.6.5"
  }
 },
 "nbformat": 4,
 "nbformat_minor": 2
}
